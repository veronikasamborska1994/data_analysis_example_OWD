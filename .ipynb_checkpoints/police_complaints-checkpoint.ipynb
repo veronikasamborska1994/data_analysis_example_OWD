{
 "cells": [
  {
   "cell_type": "markdown",
   "id": "139ecf51",
   "metadata": {},
   "source": [
    "# Do small share of police really draw a third of complaints?\n",
    "https://www.ft.com/content/141182fc-7727-4af8-a555-5418fa46d09e\n",
    "\n",
    "    \n"
   ]
  },
  {
   "cell_type": "code",
   "execution_count": 1,
   "id": "3b3cabbe",
   "metadata": {},
   "outputs": [],
   "source": [
    "import numpy as np\n",
    "import matplotlib.pyplot as plt\n",
    "import seaborn as sns\n",
    "import pandas as pd\n",
    "import ipywidgets as widgets\n",
    "from scipy.optimize import minimize\n",
    "import itertools"
   ]
  },
  {
   "cell_type": "code",
   "execution_count": 2,
   "id": "0dc5985a",
   "metadata": {},
   "outputs": [],
   "source": [
    "path_to_data = 'https://raw.githubusercontent.com/veronikasamborska1994/data_analysis_example_OWD/master/met-police-complaints.csv'\n"
   ]
  },
  {
   "cell_type": "code",
   "execution_count": 3,
   "id": "4d444c55",
   "metadata": {},
   "outputs": [],
   "source": [
    "read_pol_data = pd.read_csv(path_to_data)\n",
    "column_names = read_pol_data.keys()\n",
    "case_ref = read_pol_data[column_names[0]];\n",
    "officer_id = read_pol_data[column_names[1]]\n",
    "complaints_per_case = read_pol_data[column_names[2]]"
   ]
  },
  {
   "cell_type": "code",
   "execution_count": 4,
   "id": "526b84d9",
   "metadata": {},
   "outputs": [
    {
     "name": "stdout",
     "output_type": "stream",
     "text": [
      "officer id with an average 4 complaints per day\n"
     ]
    },
    {
     "data": {
      "image/png": "[encoded data removed]",
      "text/plain": [
       "<Figure size 432x288 with 1 Axes>"
      ]
     },
     "metadata": {
      "needs_background": "light"
     },
     "output_type": "display_data"
    }
   ],
   "source": [
    "id_unq, id_count = np.unique(officer_id, return_counts = True)\n",
    "srt_id_count = np.argsort(id_count);  \n",
    "srt_cases = id_count[srt_id_count]; srt_ids = id_unq[srt_id_count]\n",
    "\n",
    "plt.scatter(np.arange(len(srt_cases)),srt_cases)\n",
    "\n",
    "print('officer id with an average ' + str(int(srt_cases[-1]/5/365)) + ' complaints per day')\n",
    "srt_cases = srt_cases[:-2]; srt_ids = srt_ids[:-2] # sort out what's up with the last subject + organisational\n",
    "\n",
    "'Officers are ranked by number of complaints'\n",
    "\n",
    "id_number = np.arange(len(id_unq)); percentiles_id = []\n",
    "\n",
    "for i in np.arange(0,110,10):\n",
    "        percentiles_id.append(int(np.percentile(id_number,i)))\n",
    "percentiles_id[-1] =percentiles_id[-1]+1        \n",
    "'Group into deciles and sum cases'\n",
    "deciles_sums = []\n",
    "for i,ii in zip(percentiles_id[:-1],percentiles_id[1:]):\n",
    "    deciles_sums.append((np.sum(srt_cases[i:ii])/ np.sum(srt_cases))*100)\n",
    "\n"
   ]
  },
  {
   "cell_type": "code",
   "execution_count": 5,
   "id": "eb9adb7f",
   "metadata": {},
   "outputs": [
    {
     "name": "stdout",
     "output_type": "stream",
     "text": [
      "0.3579047794909673\n"
     ]
    },
    {
     "data": {
      "image/png": "[encoded data removed]",
      "text/plain": [
       "<Figure size 432x288 with 1 Axes>"
      ]
     },
     "metadata": {
      "needs_background": "light"
     },
     "output_type": "display_data"
    }
   ],
   "source": [
    "'Calulcate average probability of an offence per year per officer. Note the data we have is from the last 5 years'\n",
    "n_total_officers = 32493; # from https://en.wikipedia.org/wiki/Metropolitan_Police\n",
    "tot_complaints = np.sum(complaints_per_case)\n",
    "unif_prob = tot_complaints/n_total_officers/5\n",
    "print(unif_prob)\n",
    "tot_id_complaint = len(id_unq)\n",
    "target_total = 0; \n",
    "poisson = []\n",
    "while target_total < tot_complaints or target_total == tot_complaints:\n",
    "    poisson.append(np.random.poisson(unif_prob,n_total_officers))\n",
    "    target_total = np.sum(poisson)    \n",
    "\n",
    "    \n",
    "sum_complaints_years = np.sum(np.asarray(poisson),0)\n",
    "sim_complained_ = sum_complaints_years[np.where(sum_complaints_years!=0)[0]]\n",
    "srt_sim_id = np.argsort(sim_complained_); srt_sim_id = sim_complained_[srt_sim_id]\n",
    "\n",
    "id_number_sim = np.arange(len(sim_complained_));\n",
    "percentiles_id_sim = []\n",
    "for i in np.arange(0,110,10):\n",
    "    percentiles_id_sim.append(int(np.percentile(id_number_sim,i)))\n",
    "    \n",
    "deciles_sums_sim = []\n",
    "for i,ii in zip(percentiles_id_sim[:-1],percentiles_id_sim[1:]):\n",
    "    deciles_sums_sim.append((np.sum(srt_sim_id[i:ii])/ np.sum(srt_sim_id))*100)\n",
    "\n",
    "    \n",
    "plt.figure() \n",
    "plt.bar(np.arange(len(deciles_sums)), deciles_sums, color = 'pink', label = 'real', alpha = 0.5)\n",
    "plt.bar(np.arange(len(deciles_sums_sim)), deciles_sums_sim, color = 'grey', alpha = 0.5)    \n",
    "sns.despine()\n",
    "\n",
    "\n",
    "\n"
   ]
  },
  {
   "cell_type": "code",
   "execution_count": 6,
   "id": "c7284557",
   "metadata": {},
   "outputs": [],
   "source": [
    "def calculate_poisson(lamdas, quartiles):\n",
    "    n_total_officers = 43571 ; tot_complaints = 58147; \n",
    "\n",
    "    target_total = 0; poisson = []\n",
    "    while target_total < tot_complaints or target_total == tot_complaints:\n",
    "        prob_bias = []\n",
    "        for l,lm in enumerate(lamdas):\n",
    "            prob_bias.append(np.random.poisson(lm,int(n_total_officers/quartiles)))\n",
    "        poisson.append(prob_bias)\n",
    "        target_total = np.sum(np.asarray(poisson))\n",
    "        \n",
    "   \n",
    "    poisson_sum = np.sum(poisson,0)\n",
    "    sum_complaints_years = np.concatenate(poisson_sum)\n",
    "    \n",
    "    sim_complained_ = sum_complaints_years[np.where(sum_complaints_years!=0)[0]]\n",
    "    sim_unif_prob = ((np.sum(sim_complained_))/n_total_officers/len(poisson))\n",
    "\n",
    "    srt_sim_id = np.argsort(sim_complained_); srt_sim_id = sim_complained_[srt_sim_id]\n",
    "\n",
    "    id_number_sim = np.arange(len(sim_complained_));\n",
    "    percentiles_id_sim = []\n",
    "    for i in np.arange(0,110,10):\n",
    "        percentiles_id_sim.append(int(np.percentile(id_number_sim,i)))\n",
    "\n",
    "    deciles_sums_sim = []\n",
    "    for i,ii in zip(percentiles_id_sim[:-1],percentiles_id_sim[1:]):\n",
    "        deciles_sums_sim.append((np.sum(srt_sim_id[i:ii])/ np.sum(srt_sim_id))*100)\n",
    "    return deciles_sums_sim, len(poisson),sim_unif_prob\n"
   ]
  },
  {
   "cell_type": "code",
   "execution_count": 7,
   "id": "71bb8397",
   "metadata": {},
   "outputs": [
    {
     "data": {
      "text/plain": [
       "58147"
      ]
     },
     "execution_count": 7,
     "metadata": {},
     "output_type": "execute_result"
    },
    {
     "data": {
      "image/png": "[encoded data removed]",
      "text/plain": [
       "<Figure size 432x288 with 1 Axes>"
      ]
     },
     "metadata": {
      "needs_background": "light"
     },
     "output_type": "display_data"
    }
   ],
   "source": [
    "probs = deciles_sums/np.max(deciles_sums)\n",
    "simulated, years_to,av  = calculate_poisson(probs, 10)\n",
    "plt.figure() \n",
    "plt.bar(np.arange(len(deciles_sums)), deciles_sums, color = 'pink', label = 'real', alpha = 0.5)\n",
    "plt.bar(np.arange(len(simulated)), simulated, color = 'grey', alpha = 0.5)    \n",
    "sns.despine()\n",
    "\n",
    "np.sum((np.asarray(deciles_sums) - np.asarray(simulated))**2)\n",
    "tot_complaints"
   ]
  },
  {
   "cell_type": "code",
   "execution_count": 8,
   "id": "2271410a",
   "metadata": {},
   "outputs": [],
   "source": [
    "def lambdas_sim(last_perc, quartiles):\n",
    "    ''''((q-1)*x + last_perc))/q = unif_prob --> rearrange\n",
    "    unif_prob*q = (q-1)*x + last_perc)\n",
    "    ((unif_prob*q -last_perc))/(q-1) = x  '''\n",
    "    unif_prob = 0.3579047794909673\n",
    "    lamdas = np.zeros(quartiles);\n",
    "    x = (((quartiles)*unif_prob) - last_perc)/(quartiles-1)\n",
    "    lamdas[:] = x; lamdas[-1] = last_perc\n",
    "    return lamdas\n"
   ]
  },
  {
   "cell_type": "code",
   "execution_count": 9,
   "id": "2bc984ff",
   "metadata": {},
   "outputs": [],
   "source": [
    "def lambdas_sim_graded(a,b, quartiles):\n",
    "    lamdas = np.random.beta(a, b,quartiles)\n",
    "    return lamdas\n"
   ]
  },
  {
   "cell_type": "code",
   "execution_count": 10,
   "id": "9156847b",
   "metadata": {},
   "outputs": [
    {
     "data": {
      "application/vnd.jupyter.widget-view+json": {
       "model_id": "ddadeba88697428a9df5dbfe84438769",
       "version_major": 2,
       "version_minor": 0
      },
      "text/plain": [
       "interactive(children=(FloatSlider(value=0.1, description='last_perc', max=1.0, min=0.1), Output()), _dom_class…"
      ]
     },
     "metadata": {},
     "output_type": "display_data"
    }
   ],
   "source": [
    "@widgets.interact(last_perc=(0.1, 1))\n",
    "def plot(last_perc = 0.01):\n",
    "    quartiles = 10; \n",
    "    lamdas = lambdas_sim(last_perc, quartiles)\n",
    "   \n",
    "    simulated, years_to,av  = calculate_poisson(lamdas, quartiles)\n",
    "    fig, ax = plt.subplots(2,1, figsize=(4, 10))\n",
    "    ax[0].bar(np.arange(len(deciles_sums)), deciles_sums, color = 'pink', label = 'real', alpha = 0.5)\n",
    "    ax[0].bar(np.arange(len(simulated)), simulated, color = 'grey', alpha = 0.5) \n",
    "\n",
    "    sns.despine()\n",
    "    print('Number of Years to Achieve Total --> ' + str(years_to))\n",
    "    ax[1].hist(lamdas, color = 'pink', alpha = 0.5) \n",
    "    sns.despine()\n",
    "    print('Average % of Officers that had a complaint ' + str(av))\n"
   ]
  },
  {
   "cell_type": "code",
   "execution_count": 11,
   "id": "fb668bd7",
   "metadata": {},
   "outputs": [
    {
     "data": {
      "application/vnd.jupyter.widget-view+json": {
       "model_id": "c86aae406ed34f74adbfeaa45efc1bd6",
       "version_major": 2,
       "version_minor": 0
      },
      "text/plain": [
       "interactive(children=(IntSlider(value=1, description='a', max=10, min=1), IntSlider(value=2, description='b', …"
      ]
     },
     "metadata": {},
     "output_type": "display_data"
    }
   ],
   "source": [
    "@widgets.interact(a = (1, 10),b = (1, 10))\n",
    "def plot(a = 1, b = 2):\n",
    "    #quartiles = int(32493/10); \n",
    "    quartiles = 10\n",
    "    lamdas = lambdas_sim_graded(a,b, quartiles)\n",
    "    simulated,years_to,av = calculate_poisson(lamdas, quartiles)\n",
    "    fig, ax = plt.subplots(2,1, figsize=(4, 10))\n",
    "    \n",
    "    ax[0].bar(np.arange(len(deciles_sums)), deciles_sums, color = 'pink', label = 'real', alpha = 0.5)\n",
    "    ax[0].bar(np.arange(len(simulated)), simulated, color = 'grey', alpha = 0.5) \n",
    "\n",
    "    hist_, edg = np.histogram(lamdas)\n",
    "    ax[1].bar(edg[:-1],hist_/quartiles, color = 'pink', alpha = 0.5, width = 0.05); ax[1].set_xlim(-0.1,1)\n",
    "    ax[1].set_xlabel('Probability of Getting a Complaint'); ax[1].set_ylabel('Proportion of Police Officers')\n",
    "    \n",
    "    sns.despine()\n",
    "    above_80 = np.where(lamdas > av)[0]\n",
    "    if len(above_80)>0:\n",
    "        decile = len(above_80)/quartiles\n",
    "    else:\n",
    "        decile = 0\n",
    "        \n",
    "    print(\"% of Officers with probability of having a complaint above the mean \"+ str(np.round(decile*100,5)) + '%')\n",
    "    print(\"Top Decile Responsible for \" + str(np.round(simulated[-1],1)) + '%')\n",
    "\n",
    "    print('Number of Years to Achieve Total --> ' + str(years_to))\n",
    "    print('Average % of complaints per officer ' + str(np.round(av,3))+ '%')\n",
    "\n",
    "    \n"
   ]
  },
  {
   "cell_type": "code",
   "execution_count": 12,
   "id": "86459354",
   "metadata": {},
   "outputs": [],
   "source": [
    "prms = np.arange(0.5, 10.5, 1)\n"
   ]
  },
  {
   "cell_type": "code",
   "execution_count": 13,
   "id": "ca50a677",
   "metadata": {},
   "outputs": [
    {
     "name": "stderr",
     "output_type": "stream",
     "text": [
      "IOPub data rate exceeded.\n",
      "The notebook server will temporarily stop sending output\n",
      "to the client in order to avoid crashing it.\n",
      "To change this limit, set the config variable\n",
      "`--NotebookApp.iopub_data_rate_limit`.\n",
      "\n",
      "Current values:\n",
      "NotebookApp.iopub_data_rate_limit=1000000.0 (bytes/sec)\n",
      "NotebookApp.rate_limit_window=3.0 (secs)\n",
      "\n"
     ]
    }
   ],
   "source": [
    "permut = itertools.permutations(prms, len(prms))\n",
    "unique = []\n",
    "for comb in permut:\n",
    "    zipped = zip(comb, prms)\n",
    "    unique.append(list(zipped))\n",
    "len(unique)\n",
    "print(unique)"
   ]
  },
  {
   "cell_type": "code",
   "execution_count": null,
   "id": "b3259da7",
   "metadata": {},
   "outputs": [],
   "source": [
    "percent_above_mean = []; decile_responsible = []; average_complaints = []; distr = []; years_to_all = []\n",
    "\n",
    "for b in np.arange(0.01, 50, 0.1):\n",
    "    quartiles = 10; \n",
    "    a = 1\n",
    "    lamdas = lambdas_sim_graded(a,b, quartiles)\n",
    "    simulated,years_to,av = calculate_poisson(lamdas, quartiles)\n",
    "    above_80 = np.where(lamdas>av)[0]\n",
    "    if len(above_80)>0:\n",
    "        decile = len(above_80)/quartiles\n",
    "    else:\n",
    "        decile = 0\n",
    "    percent_above_mean.append(np.round(decile*100,5))\n",
    "    decile_responsible.append(np.round(simulated[-1],1))\n",
    "    average_complaints.append(np.round(av,3))\n",
    "    hist_, edg = np.histogram(lamdas)\n",
    "    distr.append([hist_,edg[:-1]])\n",
    "    years_to_all.append(years_to)\n",
    "    \n",
    "\n"
   ]
  },
  {
   "cell_type": "code",
   "execution_count": 11,
   "id": "1f486a7c",
   "metadata": {},
   "outputs": [
    {
     "ename": "NameError",
     "evalue": "name 'decile_responsible' is not defined",
     "output_type": "error",
     "traceback": [
      "\u001b[0;31m---------------------------------------------------------------------------\u001b[0m",
      "\u001b[0;31mNameError\u001b[0m                                 Traceback (most recent call last)",
      "\u001b[0;32m<ipython-input-11-2e44b261ecd4>\u001b[0m in \u001b[0;36m<module>\u001b[0;34m\u001b[0m\n\u001b[1;32m      1\u001b[0m \u001b[0mplt\u001b[0m\u001b[0;34m.\u001b[0m\u001b[0mfigure\u001b[0m\u001b[0;34m(\u001b[0m\u001b[0mfigsize\u001b[0m \u001b[0;34m=\u001b[0m \u001b[0;34m(\u001b[0m\u001b[0;36m4\u001b[0m\u001b[0;34m,\u001b[0m\u001b[0;36m8\u001b[0m\u001b[0;34m)\u001b[0m\u001b[0;34m)\u001b[0m\u001b[0;34m\u001b[0m\u001b[0;34m\u001b[0m\u001b[0m\n\u001b[1;32m      2\u001b[0m \u001b[0mtitles\u001b[0m \u001b[0;34m=\u001b[0m \u001b[0;34m[\u001b[0m\u001b[0;34m'Average % of Complaints per Officer'\u001b[0m\u001b[0;34m,\u001b[0m \u001b[0;34m'Complaints in the top decile'\u001b[0m\u001b[0;34m]\u001b[0m\u001b[0;34m\u001b[0m\u001b[0;34m\u001b[0m\u001b[0m\n\u001b[0;32m----> 3\u001b[0;31m \u001b[0mplt\u001b[0m\u001b[0;34m.\u001b[0m\u001b[0mscatter\u001b[0m\u001b[0;34m(\u001b[0m\u001b[0mdecile_responsible\u001b[0m\u001b[0;34m,\u001b[0m \u001b[0maverage_complaints\u001b[0m\u001b[0;34m,\u001b[0m \u001b[0mcolor\u001b[0m \u001b[0;34m=\u001b[0m \u001b[0;34m'black'\u001b[0m\u001b[0;34m)\u001b[0m\u001b[0;34m;\u001b[0m \u001b[0msns\u001b[0m\u001b[0;34m.\u001b[0m\u001b[0mdespine\u001b[0m\u001b[0;34m(\u001b[0m\u001b[0;34m)\u001b[0m\u001b[0;34m\u001b[0m\u001b[0;34m\u001b[0m\u001b[0m\n\u001b[0m\u001b[1;32m      4\u001b[0m \u001b[0mplt\u001b[0m\u001b[0;34m.\u001b[0m\u001b[0mfigure\u001b[0m\u001b[0;34m(\u001b[0m\u001b[0;34m)\u001b[0m\u001b[0;34m\u001b[0m\u001b[0;34m\u001b[0m\u001b[0m\n\u001b[1;32m      5\u001b[0m \u001b[0;34m\u001b[0m\u001b[0m\n",
      "\u001b[0;31mNameError\u001b[0m: name 'decile_responsible' is not defined"
     ]
    },
    {
     "data": {
      "text/plain": [
       "<Figure size 288x576 with 0 Axes>"
      ]
     },
     "metadata": {},
     "output_type": "display_data"
    }
   ],
   "source": [
    "plt.figure(figsize = (4,8))\n",
    "titles = ['Average % of Complaints per Officer', 'Complaints in the top decile']\n",
    "plt.scatter(decile_responsible, average_complaints, color = 'black'); sns.despine()\n",
    "plt.figure()\n",
    "\n",
    "\n",
    "for i,pl in enumerate([average_complaints, decile_responsible]):\n",
    "    plt.subplot(2,1,i+1); plt.scatter(pl,years_to_all, color = 'black')\n",
    "    plt.title(titles[i]);  sns.despine()\n",
    "\n",
    "plt.tight_layout()"
   ]
  },
  {
   "cell_type": "code",
   "execution_count": 38,
   "id": "384cf0f7",
   "metadata": {},
   "outputs": [
    {
     "name": "stdout",
     "output_type": "stream",
     "text": [
      "[0.345 0.365 0.334 0.372 0.351 0.36  0.386 0.319 0.345 0.268 0.272 0.433\n",
      " 0.305 0.301 0.234 0.275 0.243 0.364 0.26  0.223 0.256 0.272]\n",
      "[23.4 24.9 22.9 23.8 24.  23.5 22.1 23.6 23.7 23.  24.5 23.2 23.7 23.\n",
      " 26.  25.3 23.4 23.6 24.  23.9 23.4 22.4]\n"
     ]
    },
    {
     "data": {
      "text/plain": [
       "<matplotlib.collections.PathCollection at 0x7fdd27861e90>"
      ]
     },
     "execution_count": 38,
     "metadata": {},
     "output_type": "execute_result"
    },
    {
     "data": {
      "image/png": "[encoded data removed]",
      "text/plain": [
       "<Figure size 432x288 with 1 Axes>"
      ]
     },
     "metadata": {
      "needs_background": "light"
     },
     "output_type": "display_data"
    }
   ],
   "source": [
    "ind_year = np.intersect1d(np.where(np.asarray(years_to_all) > 3)[0], np.where(np.asarray(years_to_all) < 7)[0])\n",
    "\n",
    "print(np.asarray(average_complaints)[ind_year])\n",
    "print(np.asarray(decile_responsible)[ind_year])\n",
    "\n",
    "\n",
    "plt.scatter(np.asarray(average_complaints)[ind_year],np.asarray(decile_responsible)[ind_year])\n"
   ]
  },
  {
   "cell_type": "code",
   "execution_count": 39,
   "id": "73c80d8a",
   "metadata": {},
   "outputs": [
    {
     "data": {
      "text/plain": [
       "array([ 9, 13, 15, 16, 17, 18, 19, 20, 21, 22, 23, 25, 26, 27, 28, 30, 33,\n",
       "       34, 35, 42, 43, 50])"
      ]
     },
     "execution_count": 39,
     "metadata": {},
     "output_type": "execute_result"
    }
   ],
   "source": [
    "ind_year"
   ]
  },
  {
   "cell_type": "code",
   "execution_count": null,
   "id": "df9917e0",
   "metadata": {},
   "outputs": [],
   "source": []
  }
 ],
 "metadata": {
  "kernelspec": {
   "display_name": "Python 3",
   "language": "python",
   "name": "python3"
  },
  "language_info": {
   "codemirror_mode": {
    "name": "ipython",
    "version": 3
   },
   "file_extension": ".py",
   "mimetype": "text/x-python",
   "name": "python",
   "nbconvert_exporter": "python",
   "pygments_lexer": "ipython3",
   "version": "3.7.13"
  }
 },
 "nbformat": 4,
 "nbformat_minor": 5
}
