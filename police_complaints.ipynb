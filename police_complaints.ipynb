{
 "cells": [
  {
   "cell_type": "markdown",
   "id": "1236a3bb",
   "metadata": {},
   "source": [
    "# Do small share of police really draw a third of complaints?\n",
    "https://www.ft.com/content/141182fc-7727-4af8-a555-5418fa46d09e\n",
    "\n",
    "    \n"
   ]
  },
  {
   "cell_type": "code",
   "execution_count": 64,
   "id": "84ffddf4",
   "metadata": {},
   "outputs": [],
   "source": [
    "import numpy as np\n",
    "import matplotlib.pyplot as plt\n",
    "import seaborn as sns\n",
    "import pandas as pd\n",
    "from ipywidgets import interact, interactive, fixed, interact_manual\n",
    "import ipywidgets as widgets\n",
    "from scipy import optimize"
   ]
  },
  {
   "cell_type": "code",
   "execution_count": 65,
   "id": "039ea502",
   "metadata": {},
   "outputs": [],
   "source": [
    "def calculate_poisson(lamdas, quartiles):\n",
    "    n_total_officers = 43571 ; tot_complaints = 58147; \n",
    "\n",
    "    target_total = 0; poisson = []\n",
    "    while target_total < tot_complaints or target_total == tot_complaints:\n",
    "        prob_bias = []\n",
    "        for l,lm in enumerate(lamdas):\n",
    "            prob_bias.append(np.random.poisson(lm,int(n_total_officers/quartiles)))\n",
    "        poisson.append(prob_bias)\n",
    "        target_total = np.sum(np.asarray(poisson))\n",
    "        \n",
    "   \n",
    "    poisson_sum = np.sum(poisson,0)\n",
    "    sum_complaints_years = np.concatenate(poisson_sum)\n",
    "    \n",
    "    sim_complained_ = sum_complaints_years[np.where(sum_complaints_years!=0)[0]]\n",
    "    sim_unif_prob = ((np.sum(sim_complained_))/n_total_officers/len(poisson))\n",
    "\n",
    "    srt_sim_id = np.argsort(sim_complained_); srt_sim_id = sim_complained_[srt_sim_id]\n",
    "\n",
    "    id_number_sim = np.arange(len(sim_complained_));\n",
    "    percentiles_id_sim = []\n",
    "    for i in np.arange(0,110,10):\n",
    "        percentiles_id_sim.append(int(np.percentile(id_number_sim,i)))\n",
    "\n",
    "    deciles_sums_sim = []\n",
    "    for i,ii in zip(percentiles_id_sim[:-1],percentiles_id_sim[1:]):\n",
    "        deciles_sums_sim.append((np.sum(srt_sim_id[i:ii])/ np.sum(srt_sim_id))*100)\n",
    "    return deciles_sums_sim, len(poisson),sim_unif_prob\n"
   ]
  },
  {
   "cell_type": "code",
   "execution_count": 66,
   "id": "b1e996bd",
   "metadata": {},
   "outputs": [
    {
     "name": "stdout",
     "output_type": "stream",
     "text": [
      "officer id with an average 4 complaints per day\n",
      "0.3579047794909673\n"
     ]
    },
    {
     "data": {
      "text/plain": [
       "58147"
      ]
     },
     "execution_count": 66,
     "metadata": {},
     "output_type": "execute_result"
    },
    {
     "data": {
      "image/png": "[encoded data removed]",
      "text/plain": [
       "<Figure size 432x288 with 1 Axes>"
      ]
     },
     "metadata": {
      "needs_background": "light"
     },
     "output_type": "display_data"
    },
    {
     "data": {
      "image/png": "[encoded data removed]",
      "text/plain": [
       "<Figure size 432x288 with 1 Axes>"
      ]
     },
     "metadata": {
      "needs_background": "light"
     },
     "output_type": "display_data"
    },
    {
     "data": {
      "image/png": "[encoded data removed]",
      "text/plain": [
       "<Figure size 432x288 with 1 Axes>"
      ]
     },
     "metadata": {
      "needs_background": "light"
     },
     "output_type": "display_data"
    }
   ],
   "source": [
    "path_to_data = pd.read_csv('/Users/veronikasamborska/Desktop/police/met-police-complaints.csv')\n",
    "column_names = path_to_data.keys()\n",
    "case_ref = path_to_data[column_names[0]];\n",
    "officer_id = path_to_data[column_names[1]]\n",
    "complaints_per_case = path_to_data[column_names[2]]\n",
    "\n",
    "\n",
    "id_unq, id_count = np.unique(officer_id, return_counts = True)\n",
    "srt_id_count = np.argsort(id_count);  \n",
    "srt_cases = id_count[srt_id_count]; srt_ids = id_unq[srt_id_count]\n",
    "\n",
    "plt.plot(srt_cases)\n",
    "print('officer id with an average ' + str(int(srt_cases[-1]/5/365)) + ' complaints per day')\n",
    "srt_cases = srt_cases[:-2]; srt_ids = srt_ids[:-2] # sort out what's up with the last subject + organisational\n",
    "\n",
    "'Officers are ranked by number of complaints'\n",
    "\n",
    "\n",
    "id_number = np.arange(len(id_unq)); percentiles_id = []\n",
    "\n",
    "for i in np.arange(0,110,10):\n",
    "        percentiles_id.append(int(np.percentile(id_number,i)))\n",
    "percentiles_id[-1] =percentiles_id[-1]+1        \n",
    "'Group into deciles and sum cases'\n",
    "deciles_sums = []\n",
    "for i,ii in zip(percentiles_id[:-1],percentiles_id[1:]):\n",
    "    deciles_sums.append((np.sum(srt_cases[i:ii])/ np.sum(srt_cases))*100)\n",
    "\n",
    "\n",
    "\n",
    "'Calulcate average probability of an offence per year per officer. Note the data we have is from the last 5 years'\n",
    "n_total_officers = 32493; # from https://en.wikipedia.org/wiki/Metropolitan_Police\n",
    "tot_complaints = np.sum(complaints_per_case)\n",
    "unif_prob = tot_complaints/n_total_officers/5\n",
    "print(unif_prob)\n",
    "tot_id_complaint = len(id_unq)\n",
    "target_total = 0; \n",
    "poisson = []\n",
    "while target_total < tot_complaints or target_total == tot_complaints:\n",
    "    poisson.append(np.random.poisson(unif_prob,n_total_officers))\n",
    "    target_total = np.sum(poisson)    \n",
    "\n",
    "    \n",
    "sum_complaints_years = np.sum(np.asarray(poisson),0)\n",
    "sim_complained_ = sum_complaints_years[np.where(sum_complaints_years!=0)[0]]\n",
    "srt_sim_id = np.argsort(sim_complained_); srt_sim_id = sim_complained_[srt_sim_id]\n",
    "\n",
    "id_number_sim = np.arange(len(sim_complained_));\n",
    "percentiles_id_sim = []\n",
    "for i in np.arange(0,110,10):\n",
    "    percentiles_id_sim.append(int(np.percentile(id_number_sim,i)))\n",
    "    \n",
    "deciles_sums_sim = []\n",
    "for i,ii in zip(percentiles_id_sim[:-1],percentiles_id_sim[1:]):\n",
    "    deciles_sums_sim.append((np.sum(srt_sim_id[i:ii])/ np.sum(srt_sim_id))*100)\n",
    "\n",
    "    \n",
    "plt.figure() \n",
    "plt.bar(np.arange(len(deciles_sums)), deciles_sums, color = 'pink', label = 'real', alpha = 0.5)\n",
    "plt.bar(np.arange(len(deciles_sums_sim)), deciles_sums_sim, color = 'grey', alpha = 0.5)    \n",
    "sns.despine()\n",
    "\n",
    "\n",
    "\n",
    "probs = deciles_sums/np.max(deciles_sums)\n",
    "simulated, years_to,av  = calculate_poisson(probs, 10)\n",
    "plt.figure() \n",
    "plt.bar(np.arange(len(deciles_sums)), deciles_sums, color = 'pink', label = 'real', alpha = 0.5)\n",
    "plt.bar(np.arange(len(simulated)), simulated, color = 'grey', alpha = 0.5)    \n",
    "sns.despine()\n",
    "\n",
    "np.sum((np.asarray(deciles_sums) - np.asarray(simulated))**2)\n",
    "tot_complaints\n"
   ]
  },
  {
   "cell_type": "code",
   "execution_count": 67,
   "id": "9c015340",
   "metadata": {},
   "outputs": [],
   "source": [
    "def lambdas_sim(last_perc, quartiles):\n",
    "    ''''((q-1)*x + last_perc))/q = unif_prob --> rearrange\n",
    "    unif_prob*q = (q-1)*x + last_perc)\n",
    "    ((unif_prob*q -last_perc))/(q-1) = x  '''\n",
    "    unif_prob = 0.3579047794909673\n",
    "    lamdas = np.zeros(quartiles);\n",
    "    x = (((quartiles)*unif_prob) - last_perc)/(quartiles-1)\n",
    "    lamdas[:] = x; lamdas[-1] = last_perc\n",
    "    return lamdas\n"
   ]
  },
  {
   "cell_type": "code",
   "execution_count": 68,
   "id": "60193d5c",
   "metadata": {},
   "outputs": [],
   "source": [
    "def lambdas_sim_graded(a,b, quartiles):\n",
    "    lamdas = np.random.beta(a, b,quartiles)\n",
    "    return lamdas\n"
   ]
  },
  {
   "cell_type": "code",
   "execution_count": 69,
   "id": "e16fd9c6",
   "metadata": {},
   "outputs": [
    {
     "data": {
      "application/vnd.jupyter.widget-view+json": {
       "model_id": "8f83c464d1704fcd93deb5deedd74cf4",
       "version_major": 2,
       "version_minor": 0
      },
      "text/plain": [
       "interactive(children=(FloatSlider(value=0.1, description='last_perc', max=1.0, min=0.1), Output()), _dom_class…"
      ]
     },
     "metadata": {},
     "output_type": "display_data"
    }
   ],
   "source": [
    "@widgets.interact(last_perc=(0.1, 1))\n",
    "def plot(last_perc = 0.01):\n",
    "    quartiles = 10; \n",
    "    lamdas = lambdas_sim(last_perc, quartiles)\n",
    "   \n",
    "    simulated, years_to,av  = calculate_poisson(lamdas, quartiles)\n",
    "    fig, ax = plt.subplots(2,1, figsize=(4, 10))\n",
    "    ax[0].bar(np.arange(len(deciles_sums)), deciles_sums, color = 'pink', label = 'real', alpha = 0.5)\n",
    "    ax[0].bar(np.arange(len(simulated)), simulated, color = 'grey', alpha = 0.5) \n",
    "\n",
    "    sns.despine()\n",
    "    print('Number of Years to Achieve Total --> ' + str(years_to))\n",
    "    ax[1].hist(lamdas, color = 'pink', alpha = 0.5) \n",
    "    sns.despine()\n",
    "    print('Average % of Officers that had a complaint ' + str(av))\n"
   ]
  },
  {
   "cell_type": "code",
   "execution_count": 70,
   "id": "41f503ab",
   "metadata": {},
   "outputs": [
    {
     "data": {
      "application/vnd.jupyter.widget-view+json": {
       "model_id": "f6747b3124934b5db82da80243f4e11b",
       "version_major": 2,
       "version_minor": 0
      },
      "text/plain": [
       "interactive(children=(FloatSlider(value=1.0, description='a', max=2.0, min=0.05), FloatSlider(value=1.0, descr…"
      ]
     },
     "metadata": {},
     "output_type": "display_data"
    }
   ],
   "source": [
    "@widgets.interact(a = (0.05,2),b = (0.05,1))\n",
    "def plot(a = 1, b = 1):\n",
    "    quartiles = int(32493/10); \n",
    "    lamdas = lambdas_sim_graded(a,b, quartiles)\n",
    "    simulated,years_to,av = calculate_poisson(lamdas, quartiles)\n",
    "    fig, ax = plt.subplots(2,1, figsize=(4, 10))\n",
    "    #ax[0].axhline(y=deciles_sums[-1], xmin=0, xmax=9, color = 'red')\n",
    "    ax[0].bar(np.arange(len(deciles_sums)), deciles_sums, color = 'pink', label = 'real', alpha = 0.5)\n",
    "    ax[0].bar(np.arange(len(simulated)), simulated, color = 'grey', alpha = 0.5) \n",
    "\n",
    "    #ax[0].bar(np.arange(len(deciles_sums)), deciles_sums, color = 'pink', label = 'real', alpha = 0.5)\n",
    "    hist_, edg = np.histogram(lamdas)\n",
    "    ax[1].plot(edg[:-1],hist_/quartiles, color = 'pink', alpha = 0.5) \n",
    "    \n",
    "    ax[1].set_xlabel('Probability of Getting a Complaint')\n",
    "    ax[1].set_ylabel('Proportion of Police Officers')\n",
    "    sns.despine()\n",
    "    above_80 = np.where(lamdas>av)[0]\n",
    "    if len(above_80)>0:\n",
    "        decile = len(above_80)/quartiles\n",
    "    else:\n",
    "        decile = 0\n",
    "    print(\"% of Officers with probability of having a complaint above the mean \"+ str(np.round(decile*100,5)) + '%')\n",
    "    print(\"Top Decile Responsible for \" + str(np.round(simulated[-1],1)) + '%')\n",
    "    #print(np.sum((np.asarray(deciles_sums) - np.asarray(simulated))**2))\n",
    "\n",
    "    print('Number of Years to Achieve Total --> ' + str(years_to))\n",
    "    print('Average % of complaints per officer ' + str(np.round(av,3))+ '%')\n",
    "\n",
    "    \n"
   ]
  },
  {
   "cell_type": "code",
   "execution_count": 71,
   "id": "ffbb0870",
   "metadata": {},
   "outputs": [],
   "source": [
    "percent_above_mean = []; decile_responsible = []; average_complaints = []; distr = []; years_to_all = []\n",
    "\n",
    "for a in np.arange(0.05, 10, 0.5):\n",
    "    quartiles = 32493; \n",
    "    b = 1\n",
    "    lamdas = lambdas_sim_graded(a,b, quartiles)\n",
    "    simulated,years_to,av = calculate_poisson(lamdas, quartiles)\n",
    "    above_80 = np.where(lamdas>av)[0]\n",
    "    if len(above_80)>0:\n",
    "        decile = len(above_80)/quartiles\n",
    "    else:\n",
    "        decile = 0\n",
    "    percent_above_mean.append(np.round(decile*100,5))\n",
    "    decile_responsible.append(np.round(simulated[-1],1))\n",
    "    average_complaints.append(np.round(av,3))\n",
    "    hist_, edg = np.histogram(lamdas)\n",
    "    distr.append([hist_,edg[:-1]])\n",
    "    years_to_all.append(years_to)\n",
    "    \n",
    "\n"
   ]
  },
  {
   "cell_type": "code",
   "execution_count": 72,
   "id": "c150ef29",
   "metadata": {},
   "outputs": [
    {
     "data": {
      "image/png": "[encoded data removed]",
      "text/plain": [
       "<Figure size 288x576 with 2 Axes>"
      ]
     },
     "metadata": {
      "needs_background": "light"
     },
     "output_type": "display_data"
    }
   ],
   "source": [
    "plt.figure(figsize = (4,8))\n",
    "titles = ['Average % of Complaints per Officer', 'Complaints in the top decile']\n",
    "for i,pl in enumerate([average_complaints, decile_responsible]):\n",
    "    plt.subplot(2,1,i+1)\n",
    "    plt.plot(pl, color = 'black')\n",
    "    \n",
    "    plt.xticks(np.arange(len(pl))[::5],np.arange(0.05, 10, 0.5)[::5])\n",
    "    plt.title(titles[i])\n",
    "    sns.despine()\n",
    "plt.tight_layout()"
   ]
  }
 ],
 "metadata": {
  "kernelspec": {
   "display_name": "Python 3",
   "language": "python",
   "name": "python3"
  },
  "language_info": {
   "codemirror_mode": {
    "name": "ipython",
    "version": 3
   },
   "file_extension": ".py",
   "mimetype": "text/x-python",
   "name": "python",
   "nbconvert_exporter": "python",
   "pygments_lexer": "ipython3",
   "version": "3.7.13"
  }
 },
 "nbformat": 4,
 "nbformat_minor": 5
}
