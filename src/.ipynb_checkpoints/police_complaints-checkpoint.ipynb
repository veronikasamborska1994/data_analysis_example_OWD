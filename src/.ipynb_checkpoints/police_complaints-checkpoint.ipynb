{
 "cells": [
  {
   "cell_type": "markdown",
   "id": "e3ac41c3",
   "metadata": {},
   "source": [
    "# Do small share of police really draw a third of complaints?\n",
    "https://www.ft.com/content/141182fc-7727-4af8-a555-5418fa46d09e\n",
    "\n",
    "    \n"
   ]
  },
  {
   "cell_type": "code",
   "execution_count": 1,
   "id": "00ba4420",
   "metadata": {},
   "outputs": [],
   "source": [
    "import matplotlib.pyplot as plt\n",
    "import seaborn as sns\n",
    "import ipywidgets as widgets\n",
    "from utils import *\n",
    "%matplotlib inline"
   ]
  },
  {
   "cell_type": "code",
   "execution_count": 2,
   "id": "a4e8309f",
   "metadata": {},
   "outputs": [],
   "source": [
    "case_ref, officer_id, complaints_per_case = load_police_data()"
   ]
  },
  {
   "cell_type": "code",
   "execution_count": 3,
   "id": "810b1e90",
   "metadata": {},
   "outputs": [
    {
     "name": "stdout",
     "output_type": "stream",
     "text": [
      "officer id with an average 4 complaints per day\n"
     ]
    },
    {
     "data": {
      "image/png": "[encoded data removed]",
      "text/plain": [
       "<Figure size 432x288 with 1 Axes>"
      ]
     },
     "metadata": {
      "needs_background": "light"
     },
     "output_type": "display_data"
    }
   ],
   "source": [
    "sorted_cases, sorted_ids  = inspect_data(case_ref, officer_id, complaints_per_case)\n",
    "plt.scatter(np.arange(len(sorted_cases)),sorted_cases, color = 'grey', s = 0.01); sns.despine()\n",
    "\n",
    "print('last officer id with has an average ' + str(int(sorted_cases[-1]/5/365)) + ' complaints per day')\n"
   ]
  },
  {
   "cell_type": "code",
   "execution_count": 4,
   "id": "bb921b6d",
   "metadata": {},
   "outputs": [],
   "source": [
    "sorted_cases_cl = sorted_cases[:-2]; sorted_ids_cl = sorted_ids[:-2]\n",
    "deciles_ = get_decile_data(sorted_cases_cl, sorted_ids_cl)\n",
    "prob_, deciles_sim = simulate_decile_data(complaints_per_case)"
   ]
  },
  {
   "cell_type": "code",
   "execution_count": 5,
   "id": "9bec185a",
   "metadata": {},
   "outputs": [
    {
     "data": {
      "image/png": "[encoded data removed]",
      "text/plain": [
       "<Figure size 432x288 with 1 Axes>"
      ]
     },
     "metadata": {
      "needs_background": "light"
     },
     "output_type": "display_data"
    }
   ],
   "source": [
    "plt.bar(np.arange(len(deciles_)), deciles_, color = 'pink', label = 'real', alpha = 0.5)\n",
    "plt.bar(np.arange(len(deciles_sim)), deciles_sim, color = 'grey', alpha = 0.5)    \n",
    "sns.despine()\n"
   ]
  },
  {
   "cell_type": "code",
   "execution_count": 6,
   "id": "4b80a13e",
   "metadata": {},
   "outputs": [
    {
     "data": {
      "image/png": "[encoded data removed]",
      "text/plain": [
       "<Figure size 432x288 with 1 Axes>"
      ]
     },
     "metadata": {
      "needs_background": "light"
     },
     "output_type": "display_data"
    }
   ],
   "source": [
    "probs = deciles_/np.max(deciles_)\n",
    "simulated_, years_to, av  = calculate_poisson(probs, 10)\n",
    "plt.bar(np.arange(len(deciles_)), deciles_, color = 'pink', label = 'real', alpha = 0.5)\n",
    "plt.bar(np.arange(len(simulated_)), simulated_, color = 'grey', alpha = 0.5)    \n",
    "sns.despine()\n"
   ]
  },
  {
   "cell_type": "code",
   "execution_count": 7,
   "id": "3f9a32d6",
   "metadata": {},
   "outputs": [
    {
     "data": {
      "application/vnd.jupyter.widget-view+json": {
       "model_id": "b4fee9e9aa004d49816e24eacc48f4d3",
       "version_major": 2,
       "version_minor": 0
      },
      "text/plain": [
       "interactive(children=(FloatSlider(value=0.1, description='last_perc', max=1.0, min=0.1), Output()), _dom_class…"
      ]
     },
     "metadata": {},
     "output_type": "display_data"
    }
   ],
   "source": [
    "@widgets.interact(last_perc=(0.1, 1))\n",
    "def plot(last_perc = 0.01):\n",
    "    quartiles = 10; \n",
    "    lamdas = lambdas_sim(last_perc, quartiles)\n",
    "   \n",
    "    simulated, years_to,av  = calculate_poisson(lamdas, quartiles)\n",
    "    fig, ax = plt.subplots(2,1, figsize=(4, 10))\n",
    "    ax[0].bar(np.arange(len(deciles_)), deciles_, color = 'pink', label = 'real', alpha = 0.5)\n",
    "    ax[0].bar(np.arange(len(simulated)), simulated, color = 'grey', alpha = 0.5) \n",
    "\n",
    "    sns.despine()\n",
    "    print('Number of Years to Achieve Total --> ' + str(years_to))\n",
    "    ax[1].hist(lamdas, color = 'pink', alpha = 0.5) \n",
    "    sns.despine()\n",
    "    print('Average % of Officers that had a complaint ' + str(av))\n"
   ]
  },
  {
   "cell_type": "code",
   "execution_count": 12,
   "id": "ae92df49",
   "metadata": {},
   "outputs": [
    {
     "data": {
      "application/vnd.jupyter.widget-view+json": {
       "model_id": "a3e790c450f34835806244a604ed0eaf",
       "version_major": 2,
       "version_minor": 0
      },
      "text/plain": [
       "interactive(children=(IntSlider(value=1, description='a', max=10, min=1), IntSlider(value=2, description='b', …"
      ]
     },
     "metadata": {},
     "output_type": "display_data"
    }
   ],
   "source": [
    "@widgets.interact(a = (1, 10),b = (1, 10))\n",
    "def plot(a = 1, b = 2):\n",
    "    quartiles = 10\n",
    "    lamdas = lambdas_sim_graded(a,b, quartiles)\n",
    "    simulated,years_to,av = calculate_poisson(lamdas, quartiles)\n",
    "    fig, ax = plt.subplots(2,1, figsize=(4, 10))\n",
    "    \n",
    "    ax[0].bar(np.arange(len(deciles_)), deciles_, color = 'pink', label = 'real', alpha = 0.5)\n",
    "    ax[0].bar(np.arange(len(simulated)), simulated, color = 'grey', alpha = 0.5) \n",
    "\n",
    "    hist_, edg = np.histogram(lamdas)\n",
    "    ax[1].plot(edg[:-1],hist_/quartiles, color = 'pink', alpha = 0.5); \n",
    "    ax[1].set_xlim(-0.1,1)\n",
    "    ax[1].set_xlabel('Probability of Getting a Complaint'); ax[1].set_ylabel('Proportion of Police Officers')\n",
    "    \n",
    "    sns.despine()\n",
    "\n",
    "    print(\"Top Decile Responsible for \" + str(np.round(simulated[-1],1)) + '%')\n",
    "    print('Number of Years to Achieve Total --> ' + str(years_to))\n",
    "    print('Average % of complaints per officer ' + str(np.round(av,3))+ '%')\n",
    "\n",
    "    \n"
   ]
  },
  {
   "cell_type": "code",
   "execution_count": null,
   "id": "a56c05d3",
   "metadata": {},
   "outputs": [
    {
     "name": "stderr",
     "output_type": "stream",
     "text": [
      "  9%|▉         | 9/100 [00:09<02:21,  1.55s/it]"
     ]
    }
   ],
   "source": [
    "prms = np.arange(0.1, 10, 1);\n",
    "decile_responsible, average_complaints, years_to_total = simulate_lambdas(prms)\n",
    "\n",
    "plt.figure(figsize = (4,8))\n",
    "titles = ['Average % of Complaints per Officer', 'Complaints in the top decile']\n",
    "plt.subplot(3,1,1); plt.scatter(decile_responsible, average_complaints, color = 'black'); sns.despine()\n",
    "\n",
    "for i,pl in enumerate([average_complaints, decile_responsible]):\n",
    "    plt.subplot(3,1,i+2); plt.scatter(pl,years_to_all, color = 'black')\n",
    "    plt.title(titles[i]);  sns.despine()\n",
    "\n",
    "plt.tight_layout()"
   ]
  },
  {
   "cell_type": "code",
   "execution_count": 38,
   "id": "a4a237a6",
   "metadata": {},
   "outputs": [
    {
     "name": "stdout",
     "output_type": "stream",
     "text": [
      "[0.345 0.365 0.334 0.372 0.351 0.36  0.386 0.319 0.345 0.268 0.272 0.433\n",
      " 0.305 0.301 0.234 0.275 0.243 0.364 0.26  0.223 0.256 0.272]\n",
      "[23.4 24.9 22.9 23.8 24.  23.5 22.1 23.6 23.7 23.  24.5 23.2 23.7 23.\n",
      " 26.  25.3 23.4 23.6 24.  23.9 23.4 22.4]\n"
     ]
    },
    {
     "data": {
      "text/plain": [
       "<matplotlib.collections.PathCollection at 0x7fdd27861e90>"
      ]
     },
     "execution_count": 38,
     "metadata": {},
     "output_type": "execute_result"
    },
    {
     "data": {
      "image/png": "[encoded data removed]",
      "text/plain": [
       "<Figure size 432x288 with 1 Axes>"
      ]
     },
     "metadata": {
      "needs_background": "light"
     },
     "output_type": "display_data"
    }
   ],
   "source": [
    "ind_year = np.intersect1d(np.where(np.asarray(years_to_all) > 3)[0], np.where(np.asarray(years_to_all) < 7)[0])\n",
    "\n",
    "print(np.asarray(average_complaints)[ind_year])\n",
    "print(np.asarray(decile_responsible)[ind_year])\n",
    "\n",
    "\n",
    "plt.scatter(np.asarray(average_complaints)[ind_year],np.asarray(decile_responsible)[ind_year])\n"
   ]
  }
 ],
 "metadata": {
  "kernelspec": {
   "display_name": "Python 3",
   "language": "python",
   "name": "python3"
  },
  "language_info": {
   "codemirror_mode": {
    "name": "ipython",
    "version": 3
   },
   "file_extension": ".py",
   "mimetype": "text/x-python",
   "name": "python",
   "nbconvert_exporter": "python",
   "pygments_lexer": "ipython3",
   "version": "3.7.13"
  }
 },
 "nbformat": 4,
 "nbformat_minor": 5
}
